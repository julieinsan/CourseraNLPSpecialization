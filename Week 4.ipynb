{
 "cells": [
  {
   "cell_type": "raw",
   "metadata": {},
   "source": [
    "---\n",
    "title: \"Week 4\"\n",
    "format: html\n",
    "---"
   ]
  },
  {
   "attachments": {},
   "cell_type": "markdown",
   "metadata": {},
   "source": [
    "# Week 4: Machine Translation and Document Search\n",
    "\n",
    "K nearest neighbors and locality sensitivity hashing.\n",
    "\n",
    "* Translating between languages\n",
    "\n",
    "* Document Search\n",
    "\n",
    "## Learning Objectives\n",
    "\n",
    "* Transform Vector\n",
    "* K nearest neighbors\n",
    "* hash tables\n",
    "* Divide vector space into regions\n",
    "* Locality sensitive hashing\n",
    "* Approximated nearest neighbors\n",
    "\n",
    "## Machine Translation\n",
    "\n",
    "Suppose we want to translate the English word \"cat\" into the French word for cat.  We create word embeddings for a corpus of English words, and word embeddings for a corpus of French words. Then, find a *transformation matrix* that when multiplying the vector for \"cat\" gives the word vector for \"chat\", the French word.\n",
    "\n",
    "Let **X** be the matrix of English word vectors, **Y** be the matrix of French word vectors, and **R** be the learned transformation matrix then\n",
    "\n",
    "$$ XR \\approx Y $$\n"
   ]
  },
  {
   "attachments": {},
   "cell_type": "markdown",
   "metadata": {},
   "source": [
    "So we need to find the matrix R such that the distance between **XR** and **Y** is minimized.\n",
    "\n"
   ]
  }
 ],
 "metadata": {
  "kernelspec": {
   "display_name": "Python 3.10.9 64-bit (microsoft store)",
   "language": "python",
   "name": "python3"
  },
  "language_info": {
   "name": "python",
   "version": "3.10.9"
  },
  "orig_nbformat": 4,
  "vscode": {
   "interpreter": {
    "hash": "e55aec43bb5c181cc582a186ae20d936ce162a223265663ab31a07d704a5f953"
   }
  }
 },
 "nbformat": 4,
 "nbformat_minor": 2
}
